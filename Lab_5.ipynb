{
 "cells": [
  {
   "cell_type": "markdown",
   "id": "9473bf19",
   "metadata": {},
   "source": [
    "# Lab 5: Data Visualization "
   ]
  },
  {
   "cell_type": "markdown",
   "id": "3f42861a",
   "metadata": {},
   "source": [
    "# Lab Instructions and Learning Objectives\n",
    "\n",
    "Don't delete any of the cells in this notebook, and add markdown/code cells when asked.\n",
    "\n",
    "In this lab you will:"
   ]
  },
  {
   "cell_type": "markdown",
   "id": "4067bf93",
   "metadata": {},
   "source": [
    "  - select subsets of rows using operators  `!=` , `>`,  `>=`, `<`, `<=`, `<`.\n",
    "  - Understand how to construct and implement a boxplot.\n",
    "  - Understand how to summarize the distribution of a categorical variable. "
   ]
  },
  {
   "cell_type": "markdown",
   "id": "f926de9f",
   "metadata": {},
   "source": [
    "# How to submit"
   ]
  },
  {
   "cell_type": "markdown",
   "id": "ba2972ff",
   "metadata": {},
   "source": [
    "1. Download this notebook using menu item `File —> Download As —> Notebook (.ipynb)`. Save it as Lab_5.ipynb.\n",
    "\n",
    "\n",
    "2. Log in here: https://markus-ds.teach.cs.toronto.edu (Tip: Control/Command-click to open it in a new tab so you can still see these instructions.)\n",
    "\n",
    "\n",
    "3. Choose your course.\n",
    "\n",
    "\n",
    "4. Click the lab5: Lab week 5 assessment.\n",
    "\n",
    "\n",
    "5. Click the `Submissions` tab. The new page is `lab5: Submissions`.\n",
    "\n",
    "\n",
    "6. Click button `Upload File` on the bottom right.\n",
    "\n",
    "\n",
    "7. Click button `Choose Files`.\n",
    "\n",
    "\n",
    "8. Select the `Lab_5.ipynb` file that you downloaded, then click Save.\n",
    "\n"
   ]
  },
  {
   "cell_type": "markdown",
   "id": "4088aed4",
   "metadata": {},
   "source": [
    "# Due Date\n",
    "\n",
    "The due date is Friday, Feb. 11, 23:59.\n",
    "\n"
   ]
  },
  {
   "cell_type": "markdown",
   "id": "7c8afce9",
   "metadata": {},
   "source": [
    "# Marking Rubric\n",
    "\n",
    "1 mark per variable."
   ]
  },
  {
   "cell_type": "markdown",
   "id": "5999d568",
   "metadata": {},
   "source": [
    "## Lab 5 Introduction"
   ]
  },
  {
   "cell_type": "markdown",
   "id": "50beeaf8",
   "metadata": {},
   "source": [
    "In this lab, you will work with  a data set called `time_use_prov`. This is a data set is derived from the Statistics Canada General Social Survey's (GSS) Time Use (TU) Survery Main File, as well asa data set containing informationon aggregated provincial data. This week you will plot box plots, bar graphs, and use the logical operators from week 4 material to develop subset data sets to visualize data on.\n",
    "\n",
    "As usual, these labs are meant to facilitate your understanding of the material from lectures in a low-stakes environment. Please feel free to refer to your lecture content, collaborate with your peers, and seek out help from your TAs."
   ]
  },
  {
   "cell_type": "markdown",
   "id": "30ec64c3-36c6-40e2-bfce-f1f08cc5dba7",
   "metadata": {},
   "source": [
    "# Question 1\n",
    "\n",
    "Read CSV file `'time_use_prov.csv'` into a pandas `DataFrame` named `prov_data`."
   ]
  },
  {
   "cell_type": "code",
   "execution_count": null,
   "id": "bd27c6e0-a17c-4dde-8ccb-b852f23401f9",
   "metadata": {},
   "outputs": [],
   "source": [
    "# Q1 put your answer here\n"
   ]
  },
  {
   "cell_type": "code",
   "execution_count": null,
   "id": "c7395551",
   "metadata": {},
   "outputs": [],
   "source": [
    "# Q1 check\n",
    "\n",
    "prov_data.head()"
   ]
  },
  {
   "cell_type": "markdown",
   "id": "4610f309",
   "metadata": {},
   "source": [
    "## Question 2"
   ]
  },
  {
   "cell_type": "markdown",
   "id": "5ce1d423",
   "metadata": {},
   "source": [
    "Create a new column in `prov_data` named `'age_bin'`.  The values of `'age_bin'` should be obtained from the `'age'` column in `prov_data` which has the values:\n",
    "\n",
    "```\n",
    "            Age group of respondent (groups of 10)\n",
    "\n",
    "           VALUE  LABEL\n",
    "               1  15 to 24 years\n",
    "               2  25 to 34 years\n",
    "               3  35 to 44 years\n",
    "               4  45 to 54 years\n",
    "               5  55 to 64 years\n",
    "               6  65 to 74 years\n",
    "               7  75 years and over\n",
    "              96  Valid skip\n",
    "              97  Don't know\n",
    "              98  Refusal\n",
    "              99  Not stated\n",
    "```\n",
    "\n",
    "`'age_bin'` should have the values `'youth'`, `'young'`, `'middle'`, `'senior'` defined as :\n",
    "\n",
    "- `'youth'`  : ages 15-24\n",
    "- `'young'`  : ages 25-44\n",
    "- `'middle'` : ages 45-64\n",
    "- `'senior'` : ages 65+"
   ]
  },
  {
   "cell_type": "code",
   "execution_count": null,
   "id": "4d95e275-9985-4ac2-afa5-bbd09b1794a1",
   "metadata": {},
   "outputs": [],
   "source": [
    "# Q2 put your answer here\n"
   ]
  },
  {
   "cell_type": "code",
   "execution_count": null,
   "id": "39d51b14",
   "metadata": {},
   "outputs": [],
   "source": [
    "# Q2 check\n",
    "\n",
    "expected_age_bin_counts = pd.Series({'middle' : 6530, 'senior' : 4833, 'young' : 4724, 'youth' : 1303})\n",
    "\n",
    "error_msg = f'Here is your age bin value_counts:\\n{prov_data.age_bin.value_counts()}'\n",
    "\n",
    "assert expected_age_bin_counts.equals(prov_data.age_bin.value_counts()), error_msg"
   ]
  },
  {
   "cell_type": "markdown",
   "id": "a1213dee",
   "metadata": {
    "tags": []
   },
   "source": [
    "## Question 3\n",
    "\n",
    "Use `prov_data` to answer the following question. \n",
    "\n",
    "Calculate the relative frequency distribution of column `'age_bin'` (i.e., the proportion of respondents in each age group) for Ontario and the Prairies by using the`'region'` column.  \n",
    "\n",
    "Name the distribution for Ontario `ON_relfreq_dist`, and the distribution for the Prairies `Pra_relfreq_dist`."
   ]
  },
  {
   "cell_type": "code",
   "execution_count": null,
   "id": "7c207e69-3c5c-47b4-8b3d-0cb0f16e81b6",
   "metadata": {},
   "outputs": [],
   "source": [
    "# Q3 put your answer here\n"
   ]
  },
  {
   "cell_type": "code",
   "execution_count": null,
   "id": "16b51a3d",
   "metadata": {},
   "outputs": [],
   "source": [
    "# Q3 check\n",
    "\n",
    "print(ON_relfreq_dist)\n",
    "print(Pra_relfreq_dist)"
   ]
  },
  {
   "cell_type": "markdown",
   "id": "faa14f03-98f5-435d-b57c-7a02c586f7a4",
   "metadata": {},
   "source": [
    "# Question 4\n",
    "\n",
    "In this question you will use the two `Series`, `ON_relfreq_dist` and `Pra_relfreq_dist`, from Question 3.\n",
    "\n",
    "Compute the difference in distributions between Ontario and the Prairies, and only keep the age groups where the proportion in Ontario is greater than the proportion in the Prairies.  \n",
    "\n",
    "Follow these steps to do the computation.\n",
    "\n",
    "**Step 1:**\n",
    "\n",
    "Compute the difference in relative frequency distributions between Ontario and the Prairies:\n",
    "\n",
    "`ON_relfreq_dist - Pra_relfreq_dist`\n",
    "\n",
    "**Step 2:**\n",
    "\n",
    "Select rows where the difference in the proportions within an age group from step 1 is greater than 0. Name the resulting `Series` `diff_ONPra`. __(1 mark)__"
   ]
  },
  {
   "cell_type": "code",
   "execution_count": null,
   "id": "1c2dedb0-7b6c-4480-bee8-a744ec57d384",
   "metadata": {},
   "outputs": [],
   "source": [
    "# Q4 put your answer here\n"
   ]
  },
  {
   "cell_type": "code",
   "execution_count": null,
   "id": "04222f3b",
   "metadata": {},
   "outputs": [],
   "source": [
    "# Q4 check\n",
    "\n",
    "error_msg = 'The shape is wrong.  Make sure you are selecting only differences greater than 0'\n",
    "expected_diff_ONPra_shape = (2, )\n",
    "\n",
    "assert expected_diff_ONPra_shape == diff_ONPra.shape, error_msg\n",
    "\n",
    "diff_ONPra"
   ]
  },
  {
   "cell_type": "markdown",
   "id": "a41cb6dc",
   "metadata": {},
   "source": [
    "## Question 5"
   ]
  },
  {
   "cell_type": "markdown",
   "id": "0cacc7ad-f82a-4280-8a87-3588e80e3553",
   "metadata": {},
   "source": [
    "(a) Investigate the quantitative distribution of column `'Sleep duration'` for each age group in `'age_bin'` using the `describe` function.  Name the quantitative distribution, from the output of the `describe` function, `sleep_by_age_summary`."
   ]
  },
  {
   "cell_type": "code",
   "execution_count": null,
   "id": "3abaa41d-46a1-4df5-bfb7-2470181b21ee",
   "metadata": {
    "scrolled": true,
    "tags": []
   },
   "outputs": [],
   "source": [
    "# Q5a put your answer here\n"
   ]
  },
  {
   "cell_type": "code",
   "execution_count": null,
   "id": "9c98a6c5",
   "metadata": {},
   "outputs": [],
   "source": [
    "# Q5a check\n",
    "\n",
    "sleep_by_age_summary.head()"
   ]
  },
  {
   "cell_type": "markdown",
   "id": "414a4f20-90ef-412b-82c3-bb3ef33a3680",
   "metadata": {},
   "source": [
    "(b) Display the Python type for `sleep_by_age_summary`."
   ]
  },
  {
   "cell_type": "code",
   "execution_count": null,
   "id": "c6b79bc0-7264-439b-b87f-5c775e508bf6",
   "metadata": {},
   "outputs": [],
   "source": [
    "# Q5b put your answer here\n"
   ]
  },
  {
   "cell_type": "markdown",
   "id": "0e98157f-cf69-4d3e-96c7-1ca2e6a62493",
   "metadata": {},
   "source": [
    "(c) Extract the column of `sleep_by_age_summary` corresponding to the median `Sleep duration` for each age group by following these steps:\n",
    "\n",
    "**Step 1:**\n",
    "\n",
    "Obtain a list of column names of `sleep_by_age_summary` using `list(sleep_by_age_summary)`.  Name this list `sleep_by_age_summary_cols`."
   ]
  },
  {
   "cell_type": "code",
   "execution_count": null,
   "id": "e78518c6-c702-48bc-b834-bda888ded034",
   "metadata": {},
   "outputs": [],
   "source": [
    "# Q5c1 put your answer here\n"
   ]
  },
  {
   "cell_type": "code",
   "execution_count": null,
   "id": "65db4c93",
   "metadata": {},
   "outputs": [],
   "source": [
    "# Q5c1 check\n",
    "\n",
    "print(sleep_by_age_summary_cols)"
   ]
  },
  {
   "cell_type": "markdown",
   "id": "2d26ed84-6f28-498d-b7bf-a28cbc238914",
   "metadata": {},
   "source": [
    "**Step 2:**\n",
    "\n",
    "Extract the list element of `sleep_by_age_summary_cols` from Step 1 that corresponds to the median values. Name this element `median_column_name`."
   ]
  },
  {
   "cell_type": "code",
   "execution_count": null,
   "id": "160b0e78-8bbb-41d8-bf68-c0d2663c6c8f",
   "metadata": {},
   "outputs": [],
   "source": [
    "# Q5c2 put your answer here\n"
   ]
  },
  {
   "cell_type": "code",
   "execution_count": null,
   "id": "bd14c9e3",
   "metadata": {},
   "outputs": [],
   "source": [
    "# Q5c2 check\n",
    "\n",
    "print(median_column_name)"
   ]
  },
  {
   "cell_type": "markdown",
   "id": "f41c3a0d-13e6-4f95-8ff6-928f1d4f51b0",
   "metadata": {},
   "source": [
    "**Step 3:**\n",
    "\n",
    "Use `median_column_name` to extract the median column from `sleep_by_age_summary`.  Name this `Series` `median_values`. Use either `.loc` or `.iloc` to extract the column."
   ]
  },
  {
   "cell_type": "code",
   "execution_count": null,
   "id": "b8910ce9-ebb0-407e-b4ab-132548eee35d",
   "metadata": {},
   "outputs": [],
   "source": [
    "# Q5c3 put your answer here\n"
   ]
  },
  {
   "cell_type": "code",
   "execution_count": null,
   "id": "afb44d6c-99a1-4a0a-884a-a0b27d789758",
   "metadata": {},
   "outputs": [],
   "source": [
    "# Q5c3 check\n",
    "\n",
    "medians_expected = pd.Series({'middle' : 500.0, 'senior' : 540.0, 'young' : 500.0, 'youth' : 545.0})\n",
    "\n",
    "error_msg = 'The column values should be median values you see in sleep_by_age_summary.'\n",
    "\n",
    "assert medians_expected.equals(median_values), error_msg"
   ]
  },
  {
   "cell_type": "markdown",
   "id": "85a8bce4",
   "metadata": {},
   "source": [
    "## Question 6"
   ]
  },
  {
   "cell_type": "markdown",
   "id": "7c72eec9",
   "metadata": {},
   "source": [
    "Use `prov_data` to visualize the distribution of column `'Sleep duration'` by column `'age_bin'` by creating a boxplot for each age group using the pandas `boxplot` function. Name the boxplot `sleep_by_age_boxp`."
   ]
  },
  {
   "cell_type": "code",
   "execution_count": null,
   "id": "c7a7f084-0b08-4b37-8335-4e771cfe3891",
   "metadata": {
    "scrolled": true
   },
   "outputs": [],
   "source": [
    "# Q6 put your answer here\n"
   ]
  },
  {
   "cell_type": "code",
   "execution_count": null,
   "id": "d6294d9f",
   "metadata": {},
   "outputs": [],
   "source": [
    "# Q6 check\n",
    "\n",
    "type(sleep_by_age_boxp) # should be matplotlib.axes._subplots.AxesSubplot"
   ]
  }
 ],
 "metadata": {
  "kernelspec": {
   "display_name": "Python 3 (ipykernel)",
   "language": "python",
   "name": "python3"
  },
  "language_info": {
   "codemirror_mode": {
    "name": "ipython",
    "version": 3
   },
   "file_extension": ".py",
   "mimetype": "text/x-python",
   "name": "python",
   "nbconvert_exporter": "python",
   "pygments_lexer": "ipython3",
   "version": "3.9.9"
  }
 },
 "nbformat": 4,
 "nbformat_minor": 5
}
